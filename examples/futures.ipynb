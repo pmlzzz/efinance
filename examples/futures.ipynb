{
 "metadata": {
  "language_info": {
   "codemirror_mode": {
    "name": "ipython",
    "version": 3
   },
   "file_extension": ".py",
   "mimetype": "text/x-python",
   "name": "python",
   "nbconvert_exporter": "python",
   "pygments_lexer": "ipython3",
   "version": "3.7.6"
  },
  "orig_nbformat": 2,
  "kernelspec": {
   "name": "python3",
   "display_name": "Python 3.7.6 64-bit ('efinance': conda)"
  },
  "metadata": {
   "interpreter": {
    "hash": "852e1ae7af286e361c3fbe3e50983a403e71a78379adad4bb0110f899e9db4fa"
   }
  },
  "interpreter": {
   "hash": "e9ae4a3111741d25bd59cdb8048d29880b3404ce47e161046c7e8029b6cea709"
  }
 },
 "nbformat": 4,
 "nbformat_minor": 2,
 "cells": [
  {
   "cell_type": "markdown",
   "source": [
    "# 导入库"
   ],
   "metadata": {}
  },
  {
   "cell_type": "code",
   "execution_count": null,
   "source": [
    "import efinance as ef"
   ],
   "outputs": [],
   "metadata": {}
  },
  {
   "cell_type": "markdown",
   "source": [
    "# 使用例子"
   ],
   "metadata": {}
  },
  {
   "cell_type": "markdown",
   "source": [
    "### 获取四大交易所期货信息"
   ],
   "metadata": {}
  },
  {
   "cell_type": "code",
   "execution_count": null,
   "source": [
    "ef.futures.get_futures_base_info()"
   ],
   "outputs": [],
   "metadata": {}
  },
  {
   "cell_type": "markdown",
   "source": [
    "### 获取单个期货 k 线数据"
   ],
   "metadata": {}
  },
  {
   "cell_type": "code",
   "execution_count": null,
   "source": [
    "secid = '115.ZCM'\r\n",
    "ef.futures.get_quote_history(secid)"
   ],
   "outputs": [],
   "metadata": {}
  },
  {
   "cell_type": "markdown",
   "source": [
    "### 获取多个期货历史 k 线数据"
   ],
   "metadata": {}
  },
  {
   "cell_type": "code",
   "execution_count": null,
   "source": [
    "secids = ['115.ZCM','115.ZC109']\r\n",
    "ef.futures.get_quote_history(secids)"
   ],
   "outputs": [],
   "metadata": {}
  },
  {
   "cell_type": "markdown",
   "source": [
    "# 更多使用例子详见文档 [efinance-docs](https://efinance.readthedocs.io/)\r\n"
   ],
   "metadata": {}
  }
 ]
}